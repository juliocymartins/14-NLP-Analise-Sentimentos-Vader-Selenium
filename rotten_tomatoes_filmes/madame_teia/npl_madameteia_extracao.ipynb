{
 "cells": [
  {
   "cell_type": "markdown",
   "metadata": {},
   "source": [
    "# Extração de Dados com Selenium"
   ]
  },
  {
   "cell_type": "code",
   "execution_count": 1,
   "metadata": {},
   "outputs": [],
   "source": [
    "from bs4 import BeautifulSoup\n",
    "import pandas as pd\n",
    "from selenium import webdriver\n",
    "from selenium.webdriver.firefox.options import Options\n",
    "from selenium.webdriver.common.by import By\n",
    "from selenium.webdriver.common.keys import Keys\n",
    "import time\n",
    "\n",
    "def slow_scroll():\n",
    "    body = driver.find_element(By.TAG_NAME, 'body')\n",
    "    body.send_keys(Keys.END)\n",
    "    time.sleep(1)\n",
    "\n",
    "url = 'https://www.rottentomatoes.com/m/madame_web/reviews?type=user'\n",
    "option = Options()\n",
    "option.headless = False\n",
    "driver = webdriver.Firefox(options=option)\n",
    "driver.get(url)"
   ]
  },
  {
   "cell_type": "code",
   "execution_count": 2,
   "metadata": {},
   "outputs": [],
   "source": [
    "# Lista para armazenar os produtos de todas as páginas\n",
    "reviews = []"
   ]
  },
  {
   "cell_type": "code",
   "execution_count": 3,
   "metadata": {},
   "outputs": [],
   "source": [
    "# Loop para percorrer até o final\n",
    "while True:\n",
    "    slow_scroll()\n",
    "    \n",
    "    div_main = driver.find_element(By.XPATH, '/html/body/div[3]/main/div/div/section/div/div[1]')\n",
    "    \n",
    "    html_content = div_main.get_attribute('outerHTML')\n",
    "    soup = BeautifulSoup(html_content, 'html.parser')\n",
    "    comentarios = soup.find_all('div', class_='audience-review-row')\n",
    "    reviews.extend(comentarios)\n",
    "\n",
    "    # Verificar se há um botão \"Load More\" e clicar nele\n",
    "    try:\n",
    "        load_more = driver.find_element(By.CSS_SELECTOR, '.load-more-container > rt-button:nth-child(1)')\n",
    "        load_more.click()\n",
    "        time.sleep(5)  # Esperar um pouco para a próxima página carregar completamente\n",
    "    except:\n",
    "        break  # Se não houver botão \"Load More\", sair do loop"
   ]
  },
  {
   "cell_type": "code",
   "execution_count": 4,
   "metadata": {},
   "outputs": [],
   "source": [
    "dados_reviews = []"
   ]
  },
  {
   "cell_type": "code",
   "execution_count": 5,
   "metadata": {},
   "outputs": [],
   "source": [
    "# Coletar texto e nome dos comentários\n",
    "for review in reviews:\n",
    "    texto_container = review.find('div', class_='review-text-container')\n",
    "    nome_container = review.find('div', class_='review-data')\n",
    "\n",
    "    if texto_container and nome_container:\n",
    "        texto = texto_container.get_text(strip=True)\n",
    "        nome = nome_container.get_text(strip=True)\n",
    "        \n",
    "        # Adicionar os dados ao array\n",
    "        dados_reviews.append({'Comentario': texto, 'Nome': nome})\n",
    "\n",
    "df = pd.DataFrame(dados_reviews)"
   ]
  },
  {
   "cell_type": "code",
   "execution_count": 6,
   "metadata": {},
   "outputs": [],
   "source": [
    "# df.to_csv(\"npl_madameteia_raw.csv\")"
   ]
  }
 ],
 "metadata": {
  "kernelspec": {
   "display_name": "Python 3",
   "language": "python",
   "name": "python3"
  },
  "language_info": {
   "codemirror_mode": {
    "name": "ipython",
    "version": 3
   },
   "file_extension": ".py",
   "mimetype": "text/x-python",
   "name": "python",
   "nbconvert_exporter": "python",
   "pygments_lexer": "ipython3",
   "version": "3.11.9"
  }
 },
 "nbformat": 4,
 "nbformat_minor": 2
}
