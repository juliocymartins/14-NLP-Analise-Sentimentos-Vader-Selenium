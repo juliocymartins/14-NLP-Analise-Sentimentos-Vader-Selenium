{
 "cells": [
  {
   "cell_type": "markdown",
   "metadata": {},
   "source": [
    "# Extração de Dados com Selenium"
   ]
  },
  {
   "cell_type": "code",
   "execution_count": 1,
   "metadata": {},
   "outputs": [
    {
     "name": "stderr",
     "output_type": "stream",
     "text": [
      "Problem reading geckodriver versions: error sending request for url (https://raw.githubusercontent.com/SeleniumHQ/selenium/trunk/common/geckodriver/geckodriver-support.json). Using latest geckodriver version\n",
      "Error sending stats to Plausible: error sending request for url (https://plausible.io/api/event)\n"
     ]
    }
   ],
   "source": [
    "from bs4 import BeautifulSoup\n",
    "import pandas as pd\n",
    "from selenium import webdriver\n",
    "from selenium.webdriver.firefox.options import Options\n",
    "from selenium.webdriver.common.by import By\n",
    "from selenium.webdriver.common.keys import Keys\n",
    "import time\n",
    "\n",
    "def slow_scroll():\n",
    "    body = driver.find_element(By.TAG_NAME, 'body')\n",
    "    body.send_keys(Keys.END)\n",
    "    time.sleep(5)\n",
    "\n",
    "url = 'https://www.metacritic.com/game/prince-of-persia-the-lost-crown/user-reviews/?platform=playstation-5'\n",
    "option = Options()\n",
    "option.headless = False\n",
    "driver = webdriver.Firefox(options=option)\n",
    "driver.get(url)"
   ]
  },
  {
   "cell_type": "code",
   "execution_count": 2,
   "metadata": {},
   "outputs": [],
   "source": [
    "# Lista para armazenar os produtos de todas as páginas\n",
    "reviews = []\n",
    "\n",
    "# Loop para percorrer até o final\n",
    "previous_height = driver.execute_script('return document.body.scrollHeight')"
   ]
  },
  {
   "cell_type": "code",
   "execution_count": 3,
   "metadata": {},
   "outputs": [],
   "source": [
    "# Loop para percorrer até o final\n",
    "while True:\n",
    "    slow_scroll()\n",
    "    new_height = driver.execute_script('return document.body.scrollHeight')\n",
    "    \n",
    "    # Se a altura anterior for igual à nova altura, terminamos de rolar\n",
    "    if new_height == previous_height:\n",
    "        break\n",
    "    \n",
    "    previous_height = new_height\n",
    "\n",
    "    div_main = driver.find_element(By.XPATH, '/html/body/div[1]/div/div/div[2]/div[2]/div[1]/section/div[6]')\n",
    "    html_content = div_main.get_attribute('outerHTML')\n",
    "    soup = BeautifulSoup(html_content, 'html.parser')\n",
    "    comentarios = soup.find_all('div', class_='c-siteReview g-bg-gray10 u-grid g-outer-spacing-bottom-large')\n",
    "    reviews.extend(comentarios)\n",
    "\n",
    "driver.quit()"
   ]
  },
  {
   "cell_type": "code",
   "execution_count": 4,
   "metadata": {},
   "outputs": [],
   "source": [
    "dados_reviews = []"
   ]
  },
  {
   "cell_type": "code",
   "execution_count": 5,
   "metadata": {},
   "outputs": [],
   "source": [
    "# Coletar texto e nome dos comentários\n",
    "for review in reviews:\n",
    "    texto_container = review.find('div', class_='c-siteReview_main g-inner-spacing-medium')\n",
    "    # nome_container = review.find('a', class_='c-siteReviewHeader_username g-text-bold g-color-gray90 ')\n",
    "\n",
    "    if texto_container:\n",
    "        texto = texto_container.get_text(strip=True)\n",
    "        \n",
    "        # Adicionar os dados ao array\n",
    "        dados_reviews.append({'Comentario': texto})\n",
    "\n",
    "df = pd.DataFrame(dados_reviews)"
   ]
  },
  {
   "cell_type": "code",
   "execution_count": 6,
   "metadata": {},
   "outputs": [],
   "source": [
    "df.to_csv(\"npl_princeofpersia_raw.csv\")"
   ]
  }
 ],
 "metadata": {
  "kernelspec": {
   "display_name": "Python 3",
   "language": "python",
   "name": "python3"
  },
  "language_info": {
   "codemirror_mode": {
    "name": "ipython",
    "version": 3
   },
   "file_extension": ".py",
   "mimetype": "text/x-python",
   "name": "python",
   "nbconvert_exporter": "python",
   "pygments_lexer": "ipython3",
   "version": "3.11.9"
  }
 },
 "nbformat": 4,
 "nbformat_minor": 2
}
